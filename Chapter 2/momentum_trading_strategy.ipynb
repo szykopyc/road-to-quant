{
 "cells": [
  {
   "cell_type": "markdown",
   "id": "1e25af06-fd3c-4cf0-9d83-bd52c0e8ac8d",
   "metadata": {},
   "source": [
    "## Momentum Trading Strategy based on Section 2.2.2 of Quantitative Portfolio Management\n",
    "### Imports, tickers, and data downloads. Convert to log returns"
   ]
  },
  {
   "cell_type": "code",
   "execution_count": 1,
   "id": "e4e0f2fc-cf58-4682-9f95-6e684909ce5d",
   "metadata": {},
   "outputs": [],
   "source": [
    "import pandas as pd\n",
    "import numpy as np\n",
    "import yfinance as yf\n",
    "from time import sleep\n",
    "import os.path"
   ]
  },
  {
   "cell_type": "code",
   "execution_count": 2,
   "id": "5b6089f7-79af-4bcd-ad80-b2b4dab1676b",
   "metadata": {},
   "outputs": [],
   "source": [
    "stocks_tickers = pd.read_csv(\"liquid_us_stocks.csv\")\n",
    "ticker_company_dict = {key: value for key,value in zip(stocks_tickers[\"Ticker\"],stocks_tickers[\"Company Name\"])}"
   ]
  },
  {
   "cell_type": "code",
   "execution_count": 3,
   "id": "9b06444d-4bac-4c81-b8a8-7a1c054c33d3",
   "metadata": {},
   "outputs": [],
   "source": [
    "stocks_tickers = stocks_tickers[[\"Ticker\"]]"
   ]
  },
  {
   "cell_type": "code",
   "execution_count": 4,
   "id": "3b39b003-2dda-49a4-91de-a77406d99752",
   "metadata": {},
   "outputs": [
    {
     "data": {
      "text/html": [
       "<div>\n",
       "<style scoped>\n",
       "    .dataframe tbody tr th:only-of-type {\n",
       "        vertical-align: middle;\n",
       "    }\n",
       "\n",
       "    .dataframe tbody tr th {\n",
       "        vertical-align: top;\n",
       "    }\n",
       "\n",
       "    .dataframe thead th {\n",
       "        text-align: right;\n",
       "    }\n",
       "</style>\n",
       "<table border=\"1\" class=\"dataframe\">\n",
       "  <thead>\n",
       "    <tr style=\"text-align: right;\">\n",
       "      <th></th>\n",
       "      <th>Ticker</th>\n",
       "    </tr>\n",
       "  </thead>\n",
       "  <tbody>\n",
       "    <tr>\n",
       "      <th>0</th>\n",
       "      <td>JPM</td>\n",
       "    </tr>\n",
       "    <tr>\n",
       "      <th>1</th>\n",
       "      <td>BAC</td>\n",
       "    </tr>\n",
       "    <tr>\n",
       "      <th>2</th>\n",
       "      <td>WFC</td>\n",
       "    </tr>\n",
       "    <tr>\n",
       "      <th>3</th>\n",
       "      <td>C</td>\n",
       "    </tr>\n",
       "    <tr>\n",
       "      <th>4</th>\n",
       "      <td>GS</td>\n",
       "    </tr>\n",
       "  </tbody>\n",
       "</table>\n",
       "</div>"
      ],
      "text/plain": [
       "  Ticker\n",
       "0    JPM\n",
       "1    BAC\n",
       "2    WFC\n",
       "3      C\n",
       "4     GS"
      ]
     },
     "execution_count": 4,
     "metadata": {},
     "output_type": "execute_result"
    }
   ],
   "source": [
    "stocks_tickers.head()"
   ]
  },
  {
   "cell_type": "code",
   "execution_count": 5,
   "id": "b0b7bad8-aaf5-46c6-94b6-cb3590a31a8f",
   "metadata": {},
   "outputs": [],
   "source": [
    "stocks_tickers = stocks_tickers[\"Ticker\"].tolist()"
   ]
  },
  {
   "cell_type": "code",
   "execution_count": 6,
   "id": "3534cddd-e664-47ec-abed-aff99fa1054b",
   "metadata": {},
   "outputs": [],
   "source": [
    "def batch_download_data(tickers, period, batch_size=5):\n",
    "    all_data = pd.DataFrame()\n",
    "\n",
    "    for i in range(0, len(tickers), batch_size):\n",
    "        batch_tickers = tickers[i:i+batch_size]\n",
    "        print(f\"Downloading data for {batch_tickers}\")\n",
    "        \n",
    "        batch_data = yf.download(batch_tickers, period=period, auto_adjust=True)[\"Close\"]\n",
    "        if isinstance(batch_data, pd.Series):\n",
    "            batch_data = batch_data.to_frame()\n",
    "\n",
    "        na_count = batch_data.isna().sum().sum()\n",
    "        print(f\"Downloaded data for {batch_tickers} with NA count: {na_count}\")\n",
    "        \n",
    "        all_data = pd.concat([all_data, batch_data], axis=1)\n",
    "        sleep(30)\n",
    "\n",
    "    return all_data\n",
    "\n",
    "\n",
    "period = \"1y\"\n",
    "\n",
    "if os.path.exists('stock_data.pkl'):\n",
    "    stock_data = pd.read_pickle(\"stock_data.pkl\")\n",
    "else:\n",
    "    downloaded_data = batch_download_data(stocks_tickers, period, 5)\n",
    "    downloaded_data.to_pickle(\"stock_data.pkl\")\n",
    "    print(\"Finished downloading data\")\n",
    "    downloaded_data.to_pickle(\"stock_data.pkl\")"
   ]
  },
  {
   "cell_type": "code",
   "execution_count": 7,
   "id": "2c864610-03e0-412a-b7d1-c35d526b0c0b",
   "metadata": {},
   "outputs": [],
   "source": [
    "stock_data = pd.read_pickle(\"stock_data.pkl\")"
   ]
  },
  {
   "cell_type": "code",
   "execution_count": 8,
   "id": "6ed59bad-8f25-4b2f-b1a4-ec48bc44fe4a",
   "metadata": {},
   "outputs": [],
   "source": [
    "stock_log_returns_data = np.log(stock_data/stock_data.shift(1))"
   ]
  },
  {
   "cell_type": "code",
   "execution_count": 9,
   "id": "c9ad9bcb-b708-4473-bba3-89034236973f",
   "metadata": {},
   "outputs": [
    {
     "name": "stdout",
     "output_type": "stream",
     "text": [
      "48\n"
     ]
    }
   ],
   "source": [
    "print(stock_log_returns_data.isna().sum().sum())"
   ]
  },
  {
   "cell_type": "code",
   "execution_count": 10,
   "id": "04550151-3d76-4ead-9c4e-5cfd986a1f6e",
   "metadata": {},
   "outputs": [],
   "source": [
    "stock_log_returns_data = stock_log_returns_data.dropna()"
   ]
  },
  {
   "cell_type": "markdown",
   "id": "62a77ed1-64a5-4ebe-af89-14aedb921054",
   "metadata": {},
   "source": [
    "## Creating the momentum signal\n",
    "- For each stock *s* on day *d*, compute past *k*-day returns (7 day returns)\n",
    "- Rank stocks by past return\n",
    "- Go long (1) top decile, and short (-1) bottom decile"
   ]
  },
  {
   "cell_type": "code",
   "execution_count": 11,
   "id": "0c20e772-c368-450f-8b3f-59994368f7f6",
   "metadata": {},
   "outputs": [],
   "source": [
    "def momentum_signal(df, k):\n",
    "    k_day_returns = np.exp(df.rolling(window=k).sum())-1\n",
    "\n",
    "    signal_returns = k_day_returns.shift(1)\n",
    "\n",
    "    signal_returns = signal_returns.dropna()\n",
    "\n",
    "    daily_ranks = signal_returns.rank(axis=1, method='first',ascending=False)\n",
    "    \n",
    "    n_stocks = signal_returns.shape[1]\n",
    "\n",
    "    top_n = int(n_stocks*0.1)\n",
    "    bottom_n = int(n_stocks*0.1)\n",
    "\n",
    "    signals = pd.DataFrame(np.where(daily_ranks <= top_n, 1, np.where(daily_ranks > n_stocks - bottom_n, -1, 0)), index=signal_returns.index, columns=signal_returns.columns)\n",
    "\n",
    "    return signals"
   ]
  },
  {
   "cell_type": "code",
   "execution_count": 12,
   "id": "eebc7e9e-4491-486b-8285-53a54d70af73",
   "metadata": {},
   "outputs": [],
   "source": [
    "signals = momentum_signal(stock_log_returns_data, 21)"
   ]
  },
  {
   "cell_type": "code",
   "execution_count": 13,
   "id": "dff707cf-4fed-4fa8-bc84-fad63358bc69",
   "metadata": {},
   "outputs": [
    {
     "data": {
      "text/html": [
       "<div>\n",
       "<style scoped>\n",
       "    .dataframe tbody tr th:only-of-type {\n",
       "        vertical-align: middle;\n",
       "    }\n",
       "\n",
       "    .dataframe tbody tr th {\n",
       "        vertical-align: top;\n",
       "    }\n",
       "\n",
       "    .dataframe thead th {\n",
       "        text-align: right;\n",
       "    }\n",
       "</style>\n",
       "<table border=\"1\" class=\"dataframe\">\n",
       "  <thead>\n",
       "    <tr style=\"text-align: right;\">\n",
       "      <th>Ticker</th>\n",
       "      <th>BAC</th>\n",
       "      <th>C</th>\n",
       "      <th>GS</th>\n",
       "      <th>JPM</th>\n",
       "      <th>WFC</th>\n",
       "      <th>BMY</th>\n",
       "      <th>JNJ</th>\n",
       "      <th>MRK</th>\n",
       "      <th>MS</th>\n",
       "      <th>PFE</th>\n",
       "      <th>...</th>\n",
       "      <th>CVS</th>\n",
       "      <th>DIS</th>\n",
       "      <th>DOW</th>\n",
       "      <th>GE</th>\n",
       "      <th>HON</th>\n",
       "      <th>LMT</th>\n",
       "      <th>MMM</th>\n",
       "      <th>DUK</th>\n",
       "      <th>NEE</th>\n",
       "      <th>SO</th>\n",
       "    </tr>\n",
       "    <tr>\n",
       "      <th>Date</th>\n",
       "      <th></th>\n",
       "      <th></th>\n",
       "      <th></th>\n",
       "      <th></th>\n",
       "      <th></th>\n",
       "      <th></th>\n",
       "      <th></th>\n",
       "      <th></th>\n",
       "      <th></th>\n",
       "      <th></th>\n",
       "      <th></th>\n",
       "      <th></th>\n",
       "      <th></th>\n",
       "      <th></th>\n",
       "      <th></th>\n",
       "      <th></th>\n",
       "      <th></th>\n",
       "      <th></th>\n",
       "      <th></th>\n",
       "      <th></th>\n",
       "      <th></th>\n",
       "    </tr>\n",
       "  </thead>\n",
       "  <tbody>\n",
       "    <tr>\n",
       "      <th>2024-06-06</th>\n",
       "      <td>0</td>\n",
       "      <td>0</td>\n",
       "      <td>0</td>\n",
       "      <td>0</td>\n",
       "      <td>0</td>\n",
       "      <td>0</td>\n",
       "      <td>0</td>\n",
       "      <td>0</td>\n",
       "      <td>0</td>\n",
       "      <td>0</td>\n",
       "      <td>...</td>\n",
       "      <td>1</td>\n",
       "      <td>-1</td>\n",
       "      <td>0</td>\n",
       "      <td>0</td>\n",
       "      <td>0</td>\n",
       "      <td>0</td>\n",
       "      <td>0</td>\n",
       "      <td>0</td>\n",
       "      <td>1</td>\n",
       "      <td>0</td>\n",
       "    </tr>\n",
       "    <tr>\n",
       "      <th>2024-06-07</th>\n",
       "      <td>0</td>\n",
       "      <td>0</td>\n",
       "      <td>0</td>\n",
       "      <td>0</td>\n",
       "      <td>0</td>\n",
       "      <td>0</td>\n",
       "      <td>0</td>\n",
       "      <td>0</td>\n",
       "      <td>0</td>\n",
       "      <td>0</td>\n",
       "      <td>...</td>\n",
       "      <td>1</td>\n",
       "      <td>0</td>\n",
       "      <td>0</td>\n",
       "      <td>0</td>\n",
       "      <td>0</td>\n",
       "      <td>0</td>\n",
       "      <td>0</td>\n",
       "      <td>0</td>\n",
       "      <td>0</td>\n",
       "      <td>0</td>\n",
       "    </tr>\n",
       "    <tr>\n",
       "      <th>2024-06-10</th>\n",
       "      <td>0</td>\n",
       "      <td>0</td>\n",
       "      <td>0</td>\n",
       "      <td>0</td>\n",
       "      <td>0</td>\n",
       "      <td>0</td>\n",
       "      <td>0</td>\n",
       "      <td>0</td>\n",
       "      <td>0</td>\n",
       "      <td>0</td>\n",
       "      <td>...</td>\n",
       "      <td>1</td>\n",
       "      <td>0</td>\n",
       "      <td>0</td>\n",
       "      <td>0</td>\n",
       "      <td>0</td>\n",
       "      <td>0</td>\n",
       "      <td>0</td>\n",
       "      <td>0</td>\n",
       "      <td>0</td>\n",
       "      <td>0</td>\n",
       "    </tr>\n",
       "    <tr>\n",
       "      <th>2024-06-11</th>\n",
       "      <td>0</td>\n",
       "      <td>0</td>\n",
       "      <td>0</td>\n",
       "      <td>0</td>\n",
       "      <td>0</td>\n",
       "      <td>0</td>\n",
       "      <td>0</td>\n",
       "      <td>0</td>\n",
       "      <td>0</td>\n",
       "      <td>0</td>\n",
       "      <td>...</td>\n",
       "      <td>1</td>\n",
       "      <td>0</td>\n",
       "      <td>0</td>\n",
       "      <td>0</td>\n",
       "      <td>0</td>\n",
       "      <td>0</td>\n",
       "      <td>0</td>\n",
       "      <td>0</td>\n",
       "      <td>0</td>\n",
       "      <td>0</td>\n",
       "    </tr>\n",
       "    <tr>\n",
       "      <th>2024-06-12</th>\n",
       "      <td>0</td>\n",
       "      <td>0</td>\n",
       "      <td>0</td>\n",
       "      <td>0</td>\n",
       "      <td>-1</td>\n",
       "      <td>0</td>\n",
       "      <td>0</td>\n",
       "      <td>0</td>\n",
       "      <td>0</td>\n",
       "      <td>0</td>\n",
       "      <td>...</td>\n",
       "      <td>1</td>\n",
       "      <td>0</td>\n",
       "      <td>0</td>\n",
       "      <td>0</td>\n",
       "      <td>0</td>\n",
       "      <td>0</td>\n",
       "      <td>0</td>\n",
       "      <td>0</td>\n",
       "      <td>0</td>\n",
       "      <td>0</td>\n",
       "    </tr>\n",
       "  </tbody>\n",
       "</table>\n",
       "<p>5 rows × 48 columns</p>\n",
       "</div>"
      ],
      "text/plain": [
       "Ticker      BAC  C  GS  JPM  WFC  BMY  JNJ  MRK  MS  PFE  ...  CVS  DIS  DOW  \\\n",
       "Date                                                      ...                  \n",
       "2024-06-06    0  0   0    0    0    0    0    0   0    0  ...    1   -1    0   \n",
       "2024-06-07    0  0   0    0    0    0    0    0   0    0  ...    1    0    0   \n",
       "2024-06-10    0  0   0    0    0    0    0    0   0    0  ...    1    0    0   \n",
       "2024-06-11    0  0   0    0    0    0    0    0   0    0  ...    1    0    0   \n",
       "2024-06-12    0  0   0    0   -1    0    0    0   0    0  ...    1    0    0   \n",
       "\n",
       "Ticker      GE  HON  LMT  MMM  DUK  NEE  SO  \n",
       "Date                                         \n",
       "2024-06-06   0    0    0    0    0    1   0  \n",
       "2024-06-07   0    0    0    0    0    0   0  \n",
       "2024-06-10   0    0    0    0    0    0   0  \n",
       "2024-06-11   0    0    0    0    0    0   0  \n",
       "2024-06-12   0    0    0    0    0    0   0  \n",
       "\n",
       "[5 rows x 48 columns]"
      ]
     },
     "execution_count": 13,
     "metadata": {},
     "output_type": "execute_result"
    }
   ],
   "source": [
    "signals.head()"
   ]
  },
  {
   "cell_type": "markdown",
   "id": "09cf7b95-d5b7-461c-baa2-c6dd6a557a27",
   "metadata": {},
   "source": [
    "## Simple backtest"
   ]
  },
  {
   "cell_type": "code",
   "execution_count": 14,
   "id": "02168f95-60bd-44bb-8ddc-b6632d85dc0d",
   "metadata": {},
   "outputs": [],
   "source": [
    "portfolio_returns = []\n",
    "capital = 100000\n",
    "cash = capital\n",
    "positions = {}\n",
    "portfolio_returns = []\n",
    "previous_portfolio_value = capital\n",
    "\n",
    "common_dates = signals.index.intersection(stock_data.index)\n",
    "signals = signals.loc[common_dates]\n",
    "stock_prices = stock_data.loc[common_dates]\n",
    "stock_log_returns = stock_log_returns_data.loc[common_dates]"
   ]
  },
  {
   "cell_type": "code",
   "execution_count": 15,
   "id": "6fb1f985-f9bd-402e-8d64-34ad825f1f65",
   "metadata": {},
   "outputs": [],
   "source": [
    "for date, daily_signals in signals.iterrows():\n",
    "    if daily_signals.isna().all():\n",
    "        portfolio_returns.append(0)\n",
    "        continue\n",
    "\n",
    "    daily_returns = stock_log_returns_data.loc[date]\n",
    "    daily_portfolio_return = 0\n",
    "\n",
    "    for ticker in list(positions.keys()):\n",
    "        price = stock_prices.loc[date, ticker]\n",
    "        if positions[ticker] > 0:  # Close long\n",
    "            cash += positions[ticker] * price\n",
    "        else:  # Close short\n",
    "            cash -= abs(positions[ticker]) * price\n",
    "        del positions[ticker]\n",
    "\n",
    "    long_signals = daily_signals[daily_signals == 1].index\n",
    "    short_signals = daily_signals[daily_signals == -1].index\n",
    "    num_long = len(long_signals)\n",
    "    num_short = len(short_signals)\n",
    "    total_signals = num_long + num_short\n",
    "\n",
    "    if total_signals > 0:\n",
    "        capital_per_position = capital / total_signals\n",
    "\n",
    "        # Open long positions\n",
    "        for ticker in long_signals:\n",
    "            price = stock_prices.loc[date, ticker]\n",
    "            num_shares = capital_per_position / price \n",
    "            if num_shares > 0:\n",
    "                positions[ticker] = num_shares\n",
    "                cash -= num_shares * price\n",
    "            daily_portfolio_return += positions.get(ticker, 0) * daily_returns[ticker]\n",
    "\n",
    "        # Open short positions\n",
    "        for ticker in short_signals:\n",
    "            price = stock_prices.loc[date, ticker]\n",
    "            num_shares = capital_per_position / price\n",
    "            if num_shares > 0:\n",
    "                positions[ticker] = -num_shares\n",
    "                cash += num_shares * price\n",
    "            daily_portfolio_return += positions.get(ticker, 0) * daily_returns[ticker]\n",
    "\n",
    "    # Calculate portfolio value and daily return\n",
    "    portfolio_value = cash + sum(positions.get(ticker, 0) * stock_prices.loc[date, ticker] for ticker in positions)\n",
    "    daily_return = (portfolio_value - previous_portfolio_value) / previous_portfolio_value\n",
    "    portfolio_returns.append(daily_return)\n",
    "    previous_portfolio_value = portfolio_value"
   ]
  },
  {
   "cell_type": "code",
   "execution_count": 16,
   "id": "431c9671-fe54-446b-9043-b13a14c94313",
   "metadata": {},
   "outputs": [
    {
     "name": "stdout",
     "output_type": "stream",
     "text": [
      "Final Portfolio Value: 84078.71636321551\n",
      "Annualised Sharpe Ratio: -0.9688726213775346\n"
     ]
    }
   ],
   "source": [
    "portfolio_returns_df = pd.DataFrame(portfolio_returns, columns=[\"PortfolioReturn\"], index=signals.index)\n",
    "portfolio_returns_df['Cumulative Return'] = (1 + portfolio_returns_df['PortfolioReturn']).cumprod() - 1\n",
    "\n",
    "sharpe = (portfolio_returns_df['PortfolioReturn'].mean() * np.sqrt(252)) / portfolio_returns_df['PortfolioReturn'].std()\n",
    "\n",
    "print(f\"Final Portfolio Value: {portfolio_value}\")\n",
    "print(f\"Annualised Sharpe Ratio: {sharpe}\")"
   ]
  },
  {
   "cell_type": "code",
   "execution_count": 17,
   "id": "96dd72cd-3b1b-48f4-8619-62e0e1fa7dec",
   "metadata": {},
   "outputs": [
    {
     "data": {
      "text/plain": [
       "<Axes: title={'center': 'Cumulative Portfolio Return'}, xlabel='Date'>"
      ]
     },
     "execution_count": 17,
     "metadata": {},
     "output_type": "execute_result"
    },
    {
     "data": {
      "image/png": "[encoded data removed]",
      "text/plain": [
       "<Figure size 640x480 with 1 Axes>"
      ]
     },
     "metadata": {},
     "output_type": "display_data"
    }
   ],
   "source": [
    "portfolio_returns_df[\"Cumulative Return\"].plot(title=\"Cumulative Portfolio Return\")"
   ]
  },
  {
   "cell_type": "code",
   "execution_count": null,
   "id": "14a57122-332d-4b8e-9237-7e81e3a91a4d",
   "metadata": {},
   "outputs": [],
   "source": []
  }
 ],
 "metadata": {
  "kernelspec": {
   "display_name": "Python 3 (ipykernel)",
   "language": "python",
   "name": "python3"
  },
  "language_info": {
   "codemirror_mode": {
    "name": "ipython",
    "version": 3
   },
   "file_extension": ".py",
   "mimetype": "text/x-python",
   "name": "python",
   "nbconvert_exporter": "python",
   "pygments_lexer": "ipython3",
   "version": "3.11.11"
  }
 },
 "nbformat": 4,
 "nbformat_minor": 5
}
